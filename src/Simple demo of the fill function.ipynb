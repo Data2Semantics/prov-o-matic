{
 "metadata": {
  "name": "",
  "signature": "sha256:fd0f664202adaa00424802e047110177681d7877e3c9fa6f65e59d5a229e1d14"
 },
 "nbformat": 3,
 "nbformat_minor": 0,
 "worksheets": [
  {
   "cells": [
    {
     "cell_type": "markdown",
     "metadata": {},
     "source": [
      "### Load the PROV-O-Matic Extension"
     ]
    },
    {
     "cell_type": "code",
     "collapsed": false,
     "input": [
      "%reload_ext provomatic.extension"
     ],
     "language": "python",
     "metadata": {},
     "outputs": [
      {
       "output_type": "stream",
       "stream": "stderr",
       "text": [
        "ERROR:provomatic.viewer:HTTP Server failed to start (is it already running?)\n"
       ]
      }
     ],
     "prompt_number": 7
    },
    {
     "cell_type": "markdown",
     "metadata": {},
     "source": [
      "### Load the Example Provenance Graph\n",
      "Load the example graph, and revive the latest `z` variable (see PROV-O-Matic Example notebook)"
     ]
    },
    {
     "cell_type": "code",
     "collapsed": false,
     "input": [
      "add_prov('http://example.com/provenance-example', url='http://localhost:8000/prov-o-matic-example-trail.ttl')"
     ],
     "language": "python",
     "metadata": {},
     "outputs": [],
     "prompt_number": 8
    },
    {
     "cell_type": "code",
     "collapsed": false,
     "input": [
      "z = revive('z','http://provomatic.org/resource/z/3/e4da3b7fbbce2345d7772b0674a318d5') "
     ],
     "language": "python",
     "metadata": {},
     "outputs": [
      {
       "output_type": "stream",
       "stream": "stderr",
       "text": [
        "INFO:provomatic.builder:Entity imported as variable of type '<type 'int'>'\n"
       ]
      },
      {
       "output_type": "stream",
       "stream": "stderr",
       "text": [
        "INFO:provomatic.builder:URI:\thttp://provomatic.org/resource/z/3/e4da3b7fbbce2345d7772b0674a318d5\n"
       ]
      },
      {
       "output_type": "stream",
       "stream": "stderr",
       "text": [
        "INFO:provomatic.builder:Time:\t2014-09-30T15:06:01.791497\n"
       ]
      },
      {
       "output_type": "stream",
       "stream": "stderr",
       "text": [
        "INFO:provomatic.builder:Imported value has tick 4\n"
       ]
      }
     ],
     "prompt_number": 9
    },
    {
     "cell_type": "markdown",
     "metadata": {},
     "source": [
      "### Simple demo of the fill function.\n",
      "\n",
      "Taken from <http://matplotlib.org/examples/lines_bars_and_markers/fill_demo.html>"
     ]
    },
    {
     "cell_type": "code",
     "collapsed": false,
     "input": [
      "import numpy as np\n",
      "import matplotlib.pyplot as plt"
     ],
     "language": "python",
     "metadata": {},
     "outputs": [],
     "prompt_number": 2
    },
    {
     "cell_type": "code",
     "collapsed": false,
     "input": [
      "%matplotlib inline"
     ],
     "language": "python",
     "metadata": {},
     "outputs": [],
     "prompt_number": 3
    },
    {
     "cell_type": "markdown",
     "metadata": {},
     "source": [
      "The below cell uses the value of the imported `z` to compute `y` (this differs from the original example). It will also automatically recognize `x` and `y` as new versions of the entities in the imported trace. "
     ]
    },
    {
     "cell_type": "code",
     "collapsed": false,
     "input": [
      "x = np.linspace(0, 1)\n",
      "y = np.sin(z * np.pi * x ) * np.exp(-5 * x)"
     ],
     "language": "python",
     "metadata": {},
     "outputs": [],
     "prompt_number": 10
    },
    {
     "cell_type": "code",
     "collapsed": false,
     "input": [
      "plt.fill(x, y, 'r')\n",
      "plt.grid(True)\n",
      "plt.show()"
     ],
     "language": "python",
     "metadata": {},
     "outputs": [
      {
       "metadata": {},
       "output_type": "display_data",
       "png": "[encoded data removed]",
       "text": [
        "<matplotlib.figure.Figure at 0x10bf1a650>"
       ]
      }
     ],
     "prompt_number": 11
    },
    {
     "cell_type": "markdown",
     "metadata": {},
     "source": [
      "### Display Provenance Trace"
     ]
    },
    {
     "cell_type": "code",
     "collapsed": false,
     "input": [
      "view_prov()"
     ],
     "language": "python",
     "metadata": {},
     "outputs": [
      {
       "output_type": "stream",
       "stream": "stderr",
       "text": [
        "WARNING:provoviz.views:Generating over 100 provenance graphs (185 to be precise)\n"
       ]
      },
      {
       "html": [
        "<iframe width='100%' height='450px' src='http://localhost:8000/www/e52e5d83835206b0355e56f91d9e5e5f_provoviz.html'></iframe>"
       ],
       "metadata": {},
       "output_type": "pyout",
       "prompt_number": 12,
       "text": [
        "<IPython.core.display.HTML at 0x10bd3c690>"
       ]
      }
     ],
     "prompt_number": 12
    },
    {
     "cell_type": "code",
     "collapsed": false,
     "input": [],
     "language": "python",
     "metadata": {},
     "outputs": []
    }
   ],
   "metadata": {}
  }
 ]
}