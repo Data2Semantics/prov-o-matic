{
 "metadata": {
  "name": "",
  "signature": "sha256:10414228b235974f919d14f43a686337f4a02ad716b089a1f09f4d156eee7d01"
 },
 "nbformat": 3,
 "nbformat_minor": 0,
 "worksheets": [
  {
   "cells": [
    {
     "cell_type": "heading",
     "level": 1,
     "metadata": {},
     "source": [
      "Overview Report"
     ]
    },
    {
     "cell_type": "heading",
     "level": 2,
     "metadata": {},
     "source": [
      "Software"
     ]
    },
    {
     "cell_type": "markdown",
     "metadata": 3,
     "source": [
      "**Agent**\n",
      "\n",
      "ducktape on: wongiseng-note, versionID: 6847885952040544661\n",
      "\n",
      "**Agent URI**\n",
      "\n",
      "<http://prov.data2semantics.org/resource/ducktape/ducktape/wongiseng-note/6847885952040544661>\n",
      "\n",
      "**Plan**\n",
      "\n",
      "Affiliation Prediction Experiment IPAW 2014, date: Thu Mar 20 11:07:30 CET 2014\n",
      "\n",
      "**Plan URI**\n",
      "\n",
      "<http://prov.data2semantics.org/resource/ducktape/workflow/e:\\\\Projects\\\\mustard\\\\mustard-experiments\\\\yaml_workflows\\\\IPAW_ECML\\\\affiliation_prediction.yaml/69333356e73089b833ad118b930a76be>"
     ]
    },
    {
     "cell_type": "code",
     "collapsed": false,
     "input": [
      "%load_ext provomatic.extension\n",
      "\n",
      "# provenance_uri = 'https://raw.githubusercontent.com/Data2Semantics/prov-o-matic/master/src/datafiles/ducktape-output.ttl'\n",
      "provenance_uri = 'https://raw.githubusercontent.com/Data2Semantics/prov-o-matic/master/src/datafiles/ducktape-output-fixed.ttl'\n",
      "data_uri = 'https://raw.githubusercontent.com/Data2Semantics/prov-o-matic/master/src/datafiles/ducktape-data.json'\n",
      "\n",
      "load_ducktape(provenance_uri,data_uri)"
     ],
     "language": "python",
     "metadata": {},
     "outputs": [
      {
       "output_type": "stream",
       "stream": "stderr",
       "text": [
        "ERROR:provomatic.viewer:HTTP Server failed to start (is it already running?)\n"
       ]
      },
      {
       "output_type": "stream",
       "stream": "stderr",
       "text": [
        "DEBUG:provomatic.ducktape:Loading libraries_data\n"
       ]
      },
      {
       "output_type": "stream",
       "stream": "stderr",
       "text": [
        "DEBUG:provomatic.ducktape:Loading datasets_data\n"
       ]
      },
      {
       "output_type": "stream",
       "stream": "stderr",
       "text": [
        "DEBUG:provomatic.ducktape:Loading modules_data\n"
       ]
      }
     ],
     "prompt_number": 1
    },
    {
     "cell_type": "heading",
     "level": 3,
     "metadata": {},
     "source": [
      "Libraries"
     ]
    },
    {
     "cell_type": "code",
     "collapsed": true,
     "input": [
      "from ipy_table import *\n",
      "make_table(libraries_data)\n",
      "apply_theme('basic') "
     ],
     "language": "python",
     "metadata": {},
     "outputs": [
      {
       "html": [
        "<table border=\"1\" cellpadding=\"3\" cellspacing=\"0\"  style=\"border:1px solid black;border-collapse:collapse;\"><tr><td  style=\"background-color:LightGray;\"><b>GroupID</b></td><td  style=\"background-color:LightGray;\"><b>ArtifactID</b></td><td  style=\"background-color:LightGray;\"><b>Version</b></td></tr><tr><td  style=\"background-color:Ivory;\">data2semantics</td><td  style=\"background-color:Ivory;\">mustard</td><td  style=\"background-color:Ivory;\">0.0.1-SNAPSHOT</td></tr><tr><td  style=\"background-color:AliceBlue;\">data2semantics</td><td  style=\"background-color:AliceBlue;\">ducktape</td><td  style=\"background-color:AliceBlue;\">0.0.1-SNAPSHOT</td></tr>"
       ],
       "metadata": {},
       "output_type": "pyout",
       "prompt_number": 3,
       "text": [
        "<IPython.core.display.HTML at 0x10f0eed10>"
       ]
      }
     ],
     "prompt_number": 3
    },
    {
     "cell_type": "heading",
     "level": 2,
     "metadata": {},
     "source": [
      "Modules"
     ]
    },
    {
     "cell_type": "code",
     "collapsed": true,
     "input": [
      "make_table(modules_data)\n",
      "apply_theme('basic') "
     ],
     "language": "python",
     "metadata": {},
     "outputs": [
      {
       "html": [
        "<table border=\"1\" cellpadding=\"3\" cellspacing=\"0\"  style=\"border:1px solid black;border-collapse:collapse;\"><tr><td  style=\"background-color:LightGray;\"><b>Module</b></td><td  style=\"background-color:LightGray;\"><b>Instances</b></td></tr><tr><td  style=\"background-color:Ivory;\">RDFDataSet</td><td  style=\"background-color:Ivory;\">1</td></tr><tr><td  style=\"background-color:AliceBlue;\">Experiment</td><td  style=\"background-color:AliceBlue;\">100</td></tr><tr><td  style=\"background-color:Ivory;\">RDFIntersectionSubTreeKernel</td><td  style=\"background-color:Ivory;\">4</td></tr><tr><td  style=\"background-color:AliceBlue;\">LibSVMParms</td><td  style=\"background-color:AliceBlue;\">1</td></tr><tr><td  style=\"background-color:Ivory;\">RDFIntersectionPartialSubTreeKernel</td><td  style=\"background-color:Ivory;\">4</td></tr><tr><td  style=\"background-color:AliceBlue;\">RDFWLSubTreeKernel</td><td  style=\"background-color:AliceBlue;\">12</td></tr><tr><td  style=\"background-color:Ivory;\">AffiliationDataSet</td><td  style=\"background-color:Ivory;\">1</td></tr>"
       ],
       "metadata": {},
       "output_type": "pyout",
       "prompt_number": 4,
       "text": [
        "<IPython.core.display.HTML at 0x10f0a2a90>"
       ]
      }
     ],
     "prompt_number": 4
    },
    {
     "cell_type": "heading",
     "level": 2,
     "metadata": {},
     "source": [
      "Datasets"
     ]
    },
    {
     "cell_type": "code",
     "collapsed": true,
     "input": [
      "make_table(datasets_data)\n",
      "apply_theme('basic') "
     ],
     "language": "python",
     "metadata": {},
     "outputs": [
      {
       "html": [
        "<table border=\"1\" cellpadding=\"3\" cellspacing=\"0\"  style=\"border:1px solid black;border-collapse:collapse;\"><tr><td  style=\"background-color:LightGray;\"><b>Module</b></td><td  style=\"background-color:LightGray;\"><b>Dataset</b></td><td  style=\"background-color:LightGray;\"><b>Value</b></td></tr><tr><td  style=\"background-color:Ivory;\">RDFDataSet</td><td  style=\"background-color:Ivory;\">filename</td><td  style=\"background-color:Ivory;\">http://files.figshare.com/1118822/aifb_fixed_complete.n3</td></tr>"
       ],
       "metadata": {},
       "output_type": "pyout",
       "prompt_number": 5,
       "text": [
        "<IPython.core.display.HTML at 0x10f0a2b50>"
       ]
      }
     ],
     "prompt_number": 5
    },
    {
     "cell_type": "heading",
     "level": 1,
     "metadata": {},
     "source": [
      "Provenance Visualization"
     ]
    },
    {
     "cell_type": "code",
     "collapsed": true,
     "input": [
      "view_prov()"
     ],
     "language": "python",
     "metadata": {},
     "outputs": [
      {
       "output_type": "stream",
       "stream": "stderr",
       "text": [
        "WARNING:provoviz.views:Generating over 100 provenance graphs (418 to be precise)\n"
       ]
      },
      {
       "output_type": "stream",
       "stream": "stderr",
       "text": [
        "WARNING:provoviz.util.sparql:Could not extract ego graph for Affiliation Prediction Runtime Experiment IPAW 2014, date: Thu May 15 13:50:30 CEST 2014/http://prov.data2semantics.org/resource/ducktape/workflow/file%3A%2Fe%3A%2FProjects%2Fmustard%2Fmustard-experiments%2Fworkflow.yaml/6f45e92030655326aec58abef3fe2499 (Bug in NetworkX?)\n"
       ]
      },
      {
       "output_type": "stream",
       "stream": "stderr",
       "text": [
        "WARNING:provoviz.views:Something went wrong, will skip this resource... 'NoneType' object is not iterable\n"
       ]
      },
      {
       "output_type": "stream",
       "stream": "stderr",
       "text": [
        "WARNING:provoviz.views:'NoneType' object is not iterable\n"
       ]
      },
      {
       "html": [
        "<iframe width='100%' height='450px' src='http://localhost:8000/www/dab9897d3e0e3809aa5f363ae776746f_provoviz.html'></iframe>"
       ],
       "metadata": {},
       "output_type": "pyout",
       "prompt_number": 6,
       "text": [
        "<IPython.core.display.HTML at 0x10f2b3150>"
       ]
      }
     ],
     "prompt_number": 6
    },
    {
     "cell_type": "code",
     "collapsed": false,
     "input": [
      "save_prov('ducktape-trail.ttl')"
     ],
     "language": "python",
     "metadata": {},
     "outputs": [
      {
       "output_type": "stream",
       "stream": "stderr",
       "text": [
        "INFO:provomatic.builder:File saved to ducktape-trail.ttl\n"
       ]
      }
     ],
     "prompt_number": 7
    }
   ],
   "metadata": {}
  }
 ]
}