{
 "metadata": {
  "name": "",
  "signature": "sha256:7c3669beeafef769881f373c38313477db48e71a9b0d9ce9ad003ca2c5941abe"
 },
 "nbformat": 3,
 "nbformat_minor": 0,
 "worksheets": [
  {
   "cells": [
    {
     "cell_type": "heading",
     "level": 1,
     "metadata": {},
     "source": [
      "Overview Report"
     ]
    },
    {
     "cell_type": "heading",
     "level": 2,
     "metadata": {},
     "source": [
      "Software"
     ]
    },
    {
     "cell_type": "markdown",
     "metadata": 3,
     "source": [
      "**Agent**\n",
      "\n",
      "ducktape on: wongiseng-note, versionID: 6847885952040544661\n",
      "\n",
      "**Agent URI**\n",
      "\n",
      "<http://prov.data2semantics.org/resource/ducktape/ducktape/wongiseng-note/6847885952040544661>\n",
      "\n",
      "**Plan**\n",
      "\n",
      "Affiliation Prediction Experiment IPAW 2014, date: Thu Mar 20 11:07:30 CET 2014\n",
      "\n",
      "**Plan URI**\n",
      "\n",
      "<http://prov.data2semantics.org/resource/ducktape/workflow/e:\\\\Projects\\\\mustard\\\\mustard-experiments\\\\yaml_workflows\\\\IPAW_ECML\\\\affiliation_prediction.yaml/69333356e73089b833ad118b930a76be>"
     ]
    },
    {
     "cell_type": "code",
     "collapsed": false,
     "input": [
      "%load_ext provomatic.extension\n",
      "\n",
      "# provenance_uri = 'https://raw.githubusercontent.com/Data2Semantics/prov-o-matic/master/src/datafiles/ducktape-output.ttl'\n",
      "provenance_uri = 'https://raw.githubusercontent.com/Data2Semantics/prov-o-matic/master/src/datafiles/ducktape-ml-experiment-provo.ttl'\n",
      "data_uri = 'https://raw.githubusercontent.com/Data2Semantics/prov-o-matic/master/src/datafiles/ducktape-data.json'\n",
      "\n",
      "load_ducktape(provenance_uri,data_uri)"
     ],
     "language": "python",
     "metadata": {},
     "outputs": [
      {
       "output_type": "stream",
       "stream": "stdout",
       "text": [
        "Adding activity with URI http://provomatic.org/resource/da7030edc5f923709e26b6dba726e4aa/2014-09-09T16:20:46.541701\n",
        "Adding Entity with URI http://provomatic.org/resource/1c64cdb473a2ccbdfdde994e38ed83dc\n",
        "Adding Entity with URI http://provomatic.org/resource/1c64cdb473a2ccbdfdde994e38ed83dc\n",
        "The provomatic.extension extension is already loaded. To reload it, use:\n",
        "  %reload_ext provomatic.extension\n",
        "Loading libraries_data"
       ]
      },
      {
       "output_type": "stream",
       "stream": "stdout",
       "text": [
        "\n",
        "Loading datasets_data\n",
        "Loading modules_data\n",
        "Loaded provenance graph with id https://raw.githubusercontent.com/Data2Semantics/prov-o-matic/master/src/datafiles/ducktape-ml-experiment-provo.ttl"
       ]
      },
      {
       "output_type": "stream",
       "stream": "stdout",
       "text": [
        "\n",
        "Adding activity with URI http://provomatic.org/resource/111d6ee70cb706d32a7977e15ea34761/2014-09-09T16:20:48.163831\n",
        "Adding Entity with URI http://provomatic.org/resource/61dbeedfb73ce5bddd7a0778ad7aded4\n",
        "Adding Entity with URI http://provomatic.org/resource/f6b3aedc4efd72a2b6d41fe14c0e9f04\n",
        "Adding Entity with URI http://provomatic.org/resource/17d691015c1402cc375a491b882a0a43\n",
        "Adding Entity with URI http://provomatic.org/resource/6adf97f83acf6453d4a6a4b1070f3754\n",
        "Adding activity with URI http://provomatic.org/resource/a5f12960b867f3d8a7ee6ab2a3dd1825/2014-09-09T16:20:48.166936\n",
        "Adding Entity with URI http://provomatic.org/resource/f6b3aedc4efd72a2b6d41fe14c0e9f04\n",
        "Adding Entity with URI http://provomatic.org/resource/17d691015c1402cc375a491b882a0a43\n"
       ]
      },
      {
       "output_type": "stream",
       "stream": "stderr",
       "text": [
        "127.0.0.1 - - [09/Sep/2014 16:12:26] \"GET /88f9f64b156178e44e809025f938825d_provoviz.html HTTP/1.1\" 200 -\n",
        "127.0.0.1 - - [09/Sep/2014 16:20:42] \"GET /88f9f64b156178e44e809025f938825d_provoviz.html HTTP/1.1\" 200 -\n"
       ]
      }
     ],
     "prompt_number": 13
    },
    {
     "cell_type": "heading",
     "level": 3,
     "metadata": {},
     "source": [
      "Libraries"
     ]
    },
    {
     "cell_type": "code",
     "collapsed": true,
     "input": [
      "from ipy_table import *\n",
      "make_table(libraries_data)\n",
      "apply_theme('basic') "
     ],
     "language": "python",
     "metadata": {},
     "outputs": [
      {
       "output_type": "stream",
       "stream": "stdout",
       "text": [
        "Adding activity with URI http://provomatic.org/resource/197b907341b601130ad17ef27ab71450/2014-09-09T16:20:48.175282\n",
        "Adding Entity with URI http://provomatic.org/resource/f8320b26d30ab433c5a54546d21f414c\n",
        "Adding Entity with URI http://provomatic.org/resource/252fb46f161fb2bfa36f397789baa617\n",
        "Adding Entity with URI http://provomatic.org/resource/f827cf462f62848df37c5e1e94a4da74\n",
        "Adding Entity with URI http://provomatic.org/resource/65b36741c3ee57772becb7388f05d360\n",
        "Adding activity with URI http://provomatic.org/resource/20609fdbf81c52d4c75b7873bcb70fb5/2014-09-09T16:20:48.179889\n",
        "Adding Entity with URI http://provomatic.org/resource/f17aaabc20bfe045075927934fed52d2\n",
        "Adding Entity with URI http://provomatic.org/resource/f878dc744e76d9ee4baf7a2c767ad61b\n"
       ]
      },
      {
       "html": [
        "<table border=\"1\" cellpadding=\"3\" cellspacing=\"0\"  style=\"border:1px solid black;border-collapse:collapse;\"><tr><td  style=\"background-color:LightGray;\"><b>GroupID</b></td><td  style=\"background-color:LightGray;\"><b>ArtifactID</b></td><td  style=\"background-color:LightGray;\"><b>Version</b></td></tr><tr><td  style=\"background-color:Ivory;\">data2semantics</td><td  style=\"background-color:Ivory;\">mustard</td><td  style=\"background-color:Ivory;\">0.0.1-SNAPSHOT</td></tr><tr><td  style=\"background-color:AliceBlue;\">data2semantics</td><td  style=\"background-color:AliceBlue;\">ducktape</td><td  style=\"background-color:AliceBlue;\">0.0.1-SNAPSHOT</td></tr>"
       ],
       "metadata": {},
       "output_type": "pyout",
       "prompt_number": 14,
       "text": [
        "<IPython.core.display.HTML at 0x104ff1ed0>"
       ]
      },
      {
       "output_type": "stream",
       "stream": "stdout",
       "text": [
        "Adding activity with URI http://provomatic.org/resource/5749599bdfaffc31029ab727a00a885e/2014-09-09T16:20:48.187161\n",
        "Adding Entity with URI http://provomatic.org/resource/252fb46f161fb2bfa36f397789baa617\n"
       ]
      }
     ],
     "prompt_number": 14
    },
    {
     "cell_type": "heading",
     "level": 2,
     "metadata": {},
     "source": [
      "Modules"
     ]
    },
    {
     "cell_type": "code",
     "collapsed": true,
     "input": [
      "make_table(modules_data)\n",
      "apply_theme('basic') "
     ],
     "language": "python",
     "metadata": {},
     "outputs": [
      {
       "output_type": "stream",
       "stream": "stdout",
       "text": [
        "Adding activity with URI http://provomatic.org/resource/197b907341b601130ad17ef27ab71450/2014-09-09T16:20:49.677322\n",
        "Adding Entity with URI http://provomatic.org/resource/f8320b26d30ab433c5a54546d21f414c\n",
        "Adding Entity with URI http://provomatic.org/resource/12f9ed0755a4be66b112dbeb8206e12c\n",
        "Adding Entity with URI http://provomatic.org/resource/f827cf462f62848df37c5e1e94a4da74\n",
        "Adding Entity with URI http://provomatic.org/resource/d7169f262e57f92d31caa6c6a290b412\n",
        "Adding activity with URI http://provomatic.org/resource/20609fdbf81c52d4c75b7873bcb70fb5/2014-09-09T16:20:49.680942\n",
        "Adding Entity with URI http://provomatic.org/resource/f17aaabc20bfe045075927934fed52d2\n",
        "Adding Entity with URI http://provomatic.org/resource/99593d400820cf54b25b56a185880064\n"
       ]
      },
      {
       "html": [
        "<table border=\"1\" cellpadding=\"3\" cellspacing=\"0\"  style=\"border:1px solid black;border-collapse:collapse;\"><tr><td  style=\"background-color:LightGray;\"><b>Module</b></td><td  style=\"background-color:LightGray;\"><b>Instances</b></td></tr><tr><td  style=\"background-color:Ivory;\">RDFDataSet</td><td  style=\"background-color:Ivory;\">1</td></tr><tr><td  style=\"background-color:AliceBlue;\">Experiment</td><td  style=\"background-color:AliceBlue;\">100</td></tr><tr><td  style=\"background-color:Ivory;\">RDFIntersectionSubTreeKernel</td><td  style=\"background-color:Ivory;\">4</td></tr><tr><td  style=\"background-color:AliceBlue;\">LibSVMParms</td><td  style=\"background-color:AliceBlue;\">1</td></tr><tr><td  style=\"background-color:Ivory;\">RDFIntersectionPartialSubTreeKernel</td><td  style=\"background-color:Ivory;\">4</td></tr><tr><td  style=\"background-color:AliceBlue;\">RDFWLSubTreeKernel</td><td  style=\"background-color:AliceBlue;\">12</td></tr><tr><td  style=\"background-color:Ivory;\">AffiliationDataSet</td><td  style=\"background-color:Ivory;\">1</td></tr>"
       ],
       "metadata": {},
       "output_type": "pyout",
       "prompt_number": 15,
       "text": [
        "<IPython.core.display.HTML at 0x104fe38d0>"
       ]
      },
      {
       "output_type": "stream",
       "stream": "stdout",
       "text": [
        "Adding activity with URI http://provomatic.org/resource/e1061bda07c1b8cd75f21f820fbc38e3/2014-09-09T16:20:49.684376\n",
        "Adding Entity with URI http://provomatic.org/resource/12f9ed0755a4be66b112dbeb8206e12c\n"
       ]
      }
     ],
     "prompt_number": 15
    },
    {
     "cell_type": "heading",
     "level": 2,
     "metadata": {},
     "source": [
      "Datasets"
     ]
    },
    {
     "cell_type": "code",
     "collapsed": true,
     "input": [
      "make_table(datasets_data)\n",
      "apply_theme('basic') "
     ],
     "language": "python",
     "metadata": {},
     "outputs": [
      {
       "output_type": "stream",
       "stream": "stdout",
       "text": [
        "Adding activity with URI http://provomatic.org/resource/197b907341b601130ad17ef27ab71450/2014-09-09T16:20:50.801967\n",
        "Adding Entity with URI http://provomatic.org/resource/f8320b26d30ab433c5a54546d21f414c\n",
        "Adding Entity with URI http://provomatic.org/resource/dc36d9b5230fd945edc3131753feb8c6\n",
        "Adding Entity with URI http://provomatic.org/resource/f827cf462f62848df37c5e1e94a4da74\n",
        "Adding Entity with URI http://provomatic.org/resource/a38f74dc6693ca40eee3088ce1c47df0\n",
        "Adding activity with URI http://provomatic.org/resource/20609fdbf81c52d4c75b7873bcb70fb5/2014-09-09T16:20:50.804629\n",
        "Adding Entity with URI http://provomatic.org/resource/f17aaabc20bfe045075927934fed52d2\n",
        "Adding Entity with URI http://provomatic.org/resource/d7169f262e57f92d31caa6c6a290b412\n"
       ]
      },
      {
       "html": [
        "<table border=\"1\" cellpadding=\"3\" cellspacing=\"0\"  style=\"border:1px solid black;border-collapse:collapse;\"><tr><td  style=\"background-color:LightGray;\"><b>Module</b></td><td  style=\"background-color:LightGray;\"><b>Dataset</b></td><td  style=\"background-color:LightGray;\"><b>Value</b></td></tr><tr><td  style=\"background-color:Ivory;\">RDFDataSet</td><td  style=\"background-color:Ivory;\">filename</td><td  style=\"background-color:Ivory;\">http://files.figshare.com/1118822/aifb_fixed_complete.n3</td></tr>"
       ],
       "metadata": {},
       "output_type": "pyout",
       "prompt_number": 16,
       "text": [
        "<IPython.core.display.HTML at 0x104ff1dd0>"
       ]
      },
      {
       "output_type": "stream",
       "stream": "stdout",
       "text": [
        "Adding activity with URI http://provomatic.org/resource/11a87064e034731c1cd27a706bc7a0df/2014-09-09T16:20:50.809420\n",
        "Adding Entity with URI http://provomatic.org/resource/dc36d9b5230fd945edc3131753feb8c6\n"
       ]
      }
     ],
     "prompt_number": 16
    },
    {
     "cell_type": "heading",
     "level": 1,
     "metadata": {},
     "source": [
      "Provenance Visualization"
     ]
    },
    {
     "cell_type": "code",
     "collapsed": true,
     "input": [
      "view_prov()"
     ],
     "language": "python",
     "metadata": {},
     "outputs": [
      {
       "output_type": "stream",
       "stream": "stdout",
       "text": [
        "Posting to http://localhost:5000/service\n",
        "Adding activity with URI http://provomatic.org/resource/92fd02296d7f39214bc7e5da13b006d2/2014-09-09T16:29:17.226414"
       ]
      },
      {
       "output_type": "stream",
       "stream": "stdout",
       "text": [
        "\n",
        "Adding Entity with URI http://provomatic.org/resource/fab709b9ed1195dd1708f2c9f23506c6\n"
       ]
      },
      {
       "output_type": "stream",
       "stream": "stderr",
       "text": [
        "127.0.0.1 - - [09/Sep/2014 16:28:15] \"GET /c0cecdf70078e7203cef51e25dc30b26_provoviz.html HTTP/1.1\" 200 -\n"
       ]
      },
      {
       "html": [
        "<iframe width='100%' height='450px' src='http://localhost:8000/2534d6089d984c006e4c89b249ce7028_provoviz.html'></iframe>"
       ],
       "metadata": {},
       "output_type": "pyout",
       "prompt_number": 20,
       "text": [
        "<IPython.core.display.HTML at 0x10439d550>"
       ]
      },
      {
       "output_type": "stream",
       "stream": "stdout",
       "text": [
        "Adding activity with URI http://provomatic.org/resource/a62df270cb56d3ea6b2d2218a70d1603/2014-09-09T16:29:17.235417\n"
       ]
      }
     ],
     "prompt_number": 20
    },
    {
     "cell_type": "code",
     "collapsed": false,
     "input": [
      "save_prov()"
     ],
     "language": "python",
     "metadata": {},
     "outputs": [
      {
       "output_type": "stream",
       "stream": "stdout",
       "text": [
        "File saved to provenance-trail.ttl\n",
        "Adding activity with URI http://provomatic.org/resource/ea503946ccebdd8c60b83bcc7e31faad/2014-09-09T16:31:07.195438\n",
        "Adding Entity with URI http://provomatic.org/resource/c01289041e4c7f863cf154b569b03359\n",
        "Adding Entity with URI http://provomatic.org/resource/6adf97f83acf6453d4a6a4b1070f3754\n",
        "Adding activity with URI http://provomatic.org/resource/6b19479d44d15dce0815892b90bc6aa5/2014-09-09T16:31:07.197354\n"
       ]
      },
      {
       "output_type": "stream",
       "stream": "stderr",
       "text": [
        "127.0.0.1 - - [09/Sep/2014 16:29:17] \"GET /2534d6089d984c006e4c89b249ce7028_provoviz.html HTTP/1.1\" 200 -\n"
       ]
      }
     ],
     "prompt_number": 21
    },
    {
     "cell_type": "heading",
     "level": 1,
     "metadata": {},
     "source": [
      "Details"
     ]
    },
    {
     "cell_type": "markdown",
     "metadata": {},
     "source": [
      "[Detailed Information](ecml-detail.ipynb)"
     ]
    },
    {
     "cell_type": "markdown",
     "metadata": {},
     "source": [
      "<script type=\"text/javascript\"> $('div.input').hide(); </script>"
     ]
    },
    {
     "cell_type": "markdown",
     "metadata": {},
     "source": [
      "\n",
      "<script type=\"text/javascript\">\n",
      "function toggleInputCode(){\n",
      "   if($('div.input').css('display') == 'none'){\n",
      "       $('div.input').show();\n",
      "   } else \n",
      "       $('div.input').hide();\n",
      "   }\n",
      "</script>\n",
      "<button id=\"showInputCode\"  title=\"Toggle input code\" onclick=\"toggleInputCode()\">View/Hide Input Code</button>\n",
      "</script>\n"
     ]
    }
   ],
   "metadata": {}
  }
 ]
}